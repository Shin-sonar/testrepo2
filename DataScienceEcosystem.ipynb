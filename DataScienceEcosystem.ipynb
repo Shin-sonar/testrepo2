{
 "cells": [
  {
   "cell_type": "markdown",
   "id": "ab184744-f34f-4283-8495-543d92d2e1f8",
   "metadata": {
    "tags": []
   },
   "source": [
    "<H1>Data Science Tools and Ecosystem."
   ]
  },
  {
   "cell_type": "markdown",
   "id": "015f17c2-6d4e-4ec0-baad-bc74869aef63",
   "metadata": {},
   "source": [
    "In this notebook, Data Science Tools and Ecosystem are Summarized."
   ]
  },
  {
   "cell_type": "markdown",
   "id": "8fc1a63a-4c8a-421c-a180-f6b5493043df",
   "metadata": {},
   "source": [
    "Some of popular languages that Data Scientists use are:\n",
    "* Python\n",
    "* R\n",
    "* SQL"
   ]
  },
  {
   "cell_type": "markdown",
   "id": "70328f61-c141-4917-8f82-62f84cd27a94",
   "metadata": {},
   "source": [
    "Some of the commonly used libraries used by Data Scientists include:\n",
    "* ggplot\n",
    "* dplyr\n",
    "* Numpy"
   ]
  },
  {
   "cell_type": "markdown",
   "id": "519caef7-4b29-4fba-8b06-e2815f7927a9",
   "metadata": {},
   "source": [
    "| Data Science Tools |\n",
    "| ----- |\n",
    "| Apache Spark |\n",
    "| Anaconda |\n",
    "| Julia |"
   ]
  },
  {
   "cell_type": "markdown",
   "id": "2fcd6333-21b6-4d12-a0aa-d69972b13a57",
   "metadata": {},
   "source": [
    "<H3>Below are a few examples of evaluating arithmetric expressions in Python"
   ]
  },
  {
   "cell_type": "code",
   "execution_count": 2,
   "id": "27d9b059-d495-4f3d-a05b-de086437045b",
   "metadata": {
    "tags": []
   },
   "outputs": [
    {
     "data": {
      "text/plain": [
       "17"
      ]
     },
     "execution_count": 2,
     "metadata": {},
     "output_type": "execute_result"
    }
   ],
   "source": [
    "(3*4)+5\n",
    "# This a simple arithmetric expression to multiply then add integers"
   ]
  },
  {
   "cell_type": "code",
   "execution_count": 5,
   "id": "9d4a42cb-b748-450d-b35f-9acf46052fe2",
   "metadata": {
    "tags": []
   },
   "outputs": [
    {
     "data": {
      "text/plain": [
       "3.3333333333333335"
      ]
     },
     "execution_count": 5,
     "metadata": {},
     "output_type": "execute_result"
    }
   ],
   "source": [
    "200 / 60\n",
    "# This will convert 200 minutes to hours by dividing by 60"
   ]
  },
  {
   "cell_type": "markdown",
   "id": "50b45f2b-7af1-4027-8ef6-736bbde64bc0",
   "metadata": {},
   "source": [
    "##Objectives:\n",
    "<ul>\n",
    "    <li>Python</li>\n",
    "    <li>R</li>\n",
    "    <li>SQL</li>"
   ]
  },
  {
   "cell_type": "markdown",
   "id": "c3b05d48-8ee8-4d13-bd07-03fb72f2a41e",
   "metadata": {},
   "source": [
    "## Author\n",
    "Shinya"
   ]
  },
  {
   "cell_type": "code",
   "execution_count": null,
   "id": "8026ec1e-f267-443b-b208-4c593e46e6c8",
   "metadata": {},
   "outputs": [],
   "source": []
  }
 ],
 "metadata": {
  "kernelspec": {
   "display_name": "Python 3 (ipykernel)",
   "language": "python",
   "name": "python3"
  },
  "language_info": {
   "codemirror_mode": {
    "name": "ipython",
    "version": 3
   },
   "file_extension": ".py",
   "mimetype": "text/x-python",
   "name": "python",
   "nbconvert_exporter": "python",
   "pygments_lexer": "ipython3",
   "version": "3.11.3"
  }
 },
 "nbformat": 4,
 "nbformat_minor": 5
}
